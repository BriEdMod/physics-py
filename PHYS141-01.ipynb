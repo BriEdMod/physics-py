{
 "cells": [
  {
   "cell_type": "markdown",
   "metadata": {},
   "source": [
    "# Particle force interaction v1.0"
   ]
  },
  {
   "cell_type": "code",
   "execution_count": 6,
   "metadata": {},
   "outputs": [],
   "source": [
    "import math\n",
    "import numpy\n",
    "\n",
    "k = 8.98*math.pow(10, 9)\n",
    "\n",
    "class Particle(object):\n",
    "    def __init__(self,\n",
    "                name=\"\",\n",
    "                x_pos=0.0,\n",
    "                y_pos=0.0,\n",
    "                charge=0.0):\n",
    "        self.name = name\n",
    "        self.x_pos = x_pos\n",
    "        self.y_pos = y_pos\n",
    "        self.charge = charge\n",
    "    \n",
    "    def distance(self, x_targ = 0.0, y_targ = 0.0):\n",
    "        return math.sqrt(math.pow((x_targ - self.x_pos), 2) + math.pow((y_targ - self.y_pos), 2)) #magnetude of pythagorean identity of x and y components\n",
    "    \n",
    "    def angle(self, x_targ=0.0, y_targ=0.0):\n",
    "        return math.atan2((y_targ - self.y_pos), (x_targ-self.x_pos)) # angle in radians between particle and other point\n",
    "    \n",
    "    def unit_vector(self, x_targ=0.0, y_targ=0.0): #unit vector between particle and other point facing away\n",
    "        anglebetween = self.angle(x_targ, y_targ)\n",
    "        return numpy.array([[math.cos(self.angle(x_targ, y_targ)), 0], [0, math.sin(self.angle(x_targ, y_targ))]])\n",
    "    \n",
    "    def f_interaction(self, other_particle): #interaction between two particles\n",
    "        return (k*self.charge*other_particle.charge) / (math.pow(self.distance(x_targ=other_particle.x_pos, y_targ=other_particle.y_pos), 2)) * self.unit_vector(other_particle.x_pos, other_particle.y_pos)\n",
    "    \n",
    "    def field_at(self, x_pos, y_pos): #field from a single particle at a point\n",
    "        return (k*self.charge) / (math.pow(self.distance(x_targ=x_pos, y_targ=y_pos), 2)) * self.unit_vector(x_pos, y_pos)\n"
   ]
  },
  {
   "cell_type": "markdown",
   "metadata": {},
   "source": [
    "### End of version 1.0. do not edit cell above!"
   ]
  },
  {
   "cell_type": "markdown",
   "metadata": {},
   "source": [
    "# Start of 1.1\n",
    "\n",
    "### Goals of below:\n",
    "- Make a \"particle space\" where particles can freely interact\n",
    "- make a \"field_at\" method that finds the sum of the fields at specified point"
   ]
  },
  {
   "cell_type": "code",
   "execution_count": 7,
   "metadata": {},
   "outputs": [],
   "source": [
    "class Space():\n",
    "    def __init__(self):\n",
    "        self.particles=[]\n",
    "        \n",
    "    def add_particle(self,\n",
    "                    p_name='',\n",
    "                    p_x_pos=0.0,\n",
    "                    p_y_pos=0.0,\n",
    "                    p_charge=0.0,):\n",
    "        new_part = Particle(name=p_name, charge=p_charge, x_pos=p_x_pos, y_pos=p_y_pos)\n",
    "        self.particles.append(new_part)\n",
    "        \n",
    "    def rem_particle(self, p_index):\n",
    "        del self.particles[p_index]\n",
    "    \n",
    "    def field_at(self, x_loc, y_loc):\n",
    "        calc_field = numpy.array([[0.0,0.0],[0.0,0.0]])\n",
    "        for targ_part in self.particles:\n",
    "            calc_field += targ_part.field_at(x_loc, y_loc)\n",
    "        return calc_field"
   ]
  },
  {
   "cell_type": "markdown",
   "metadata": {},
   "source": [
    "### End of version 1.1. Do not edit cells above"
   ]
  },
  {
   "cell_type": "markdown",
   "metadata": {},
   "source": [
    "# Copying working code below for further changes"
   ]
  },
  {
   "cell_type": "code",
   "execution_count": null,
   "metadata": {},
   "outputs": [],
   "source": [
    "import math\n",
    "import numpy\n",
    "\n",
    "k = 8.98*math.pow(10, 9)\n",
    "\n",
    "class Particle(object):\n",
    "    def __init__(self,\n",
    "                name=\"\",\n",
    "                x_pos=0.0,\n",
    "                y_pos=0.0,\n",
    "                charge=0.0):\n",
    "        self.name = name\n",
    "        self.x_pos = x_pos\n",
    "        self.y_pos = y_pos\n",
    "        self.charge = charge\n",
    "    \n",
    "    def distance(self, x_targ = 0.0, y_targ = 0.0):\n",
    "        return math.sqrt(math.pow((x_targ - self.x_pos), 2) + math.pow((y_targ - self.y_pos), 2)) #magnetude of pythagorean identity of x and y components\n",
    "    \n",
    "    def angle(self, x_targ=0.0, y_targ=0.0):\n",
    "        return math.atan2((y_targ - self.y_pos), (x_targ-self.x_pos)) # angle in radians between particle and other point\n",
    "    \n",
    "    def unit_vector(self, x_targ=0.0, y_targ=0.0): #unit vector between particle and other point facing away\n",
    "        anglebetween = self.angle(x_targ, y_targ)\n",
    "        return numpy.array([[math.cos(self.angle(x_targ, y_targ)), 0], [0, math.sin(self.angle(x_targ, y_targ))]])\n",
    "    \n",
    "    def f_interaction(self, other_particle): #interaction between two particles\n",
    "        return (k*self.charge*other_particle.charge) / (math.pow(self.distance(x_targ=other_particle.x_pos, y_targ=other_particle.y_pos), 2)) * self.unit_vector(other_particle.x_pos, other_particle.y_pos)\n",
    "    \n",
    "    def field_at(self, x_pos, y_pos): #field from a single particle at a point\n",
    "        return (k*self.charge) / (math.pow(self.distance(x_targ=x_pos, y_targ=y_pos), 2)) * self.unit_vector(x_pos, y_pos)\n",
    "\n",
    "class Space():\n",
    "    def __init__(self):\n",
    "        self.particles=[] #initially empty list of particles to interact\n",
    "        \n",
    "    def add_particle(self,\n",
    "                    p_name='',\n",
    "                    p_x_pos=0.0,\n",
    "                    p_y_pos=0.0,\n",
    "                    p_charge=0.0,): #adds new particle to list 'particles'\n",
    "        new_part = Particle(name=p_name, charge=p_charge, x_pos=p_x_pos, y_pos=p_y_pos)\n",
    "        self.particles.append(new_part)\n",
    "        \n",
    "    def rem_particle(self, p_index): #remove particle with index of 'p_index'\n",
    "        del self.particles[p_index]\n",
    "    \n",
    "    def field_at(self, x_loc, y_loc): #calculate resultant field given particles in list\n",
    "        calc_field = numpy.array([[0.0,0.0],[0.0,0.0]])\n",
    "        for targ_part in self.particles:\n",
    "            calc_field += targ_part.field_at(x_loc, y_loc)\n",
    "        return calc_field\n"
   ]
  }
 ],
 "metadata": {
  "kernelspec": {
   "display_name": "Python 3",
   "language": "python",
   "name": "python3"
  },
  "language_info": {
   "codemirror_mode": {
    "name": "ipython",
    "version": 3
   },
   "file_extension": ".py",
   "mimetype": "text/x-python",
   "name": "python",
   "nbconvert_exporter": "python",
   "pygments_lexer": "ipython3",
   "version": "3.7.2"
  }
 },
 "nbformat": 4,
 "nbformat_minor": 2
}
